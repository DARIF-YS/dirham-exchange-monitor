{
 "cells": [
  {
   "cell_type": "code",
   "execution_count": null,
   "id": "d4481d31-c11e-4ede-bdf2-15d386a80f5d",
   "metadata": {},
   "outputs": [],
   "source": [
    "import pandas as pd"
   ]
  },
  {
   "cell_type": "code",
   "execution_count": null,
   "id": "b37c9f26-4309-466d-8b62-b9501c8f523f",
   "metadata": {},
   "outputs": [],
   "source": [
    "# Charger un fichier JSON en DataFrame\n",
    "df = pd.read_json(\"../exchange_data/raw_taux_change.json\") "
   ]
  },
  {
   "cell_type": "code",
   "execution_count": null,
   "id": "22e02cc8-3600-4771-a8d8-acc214089c42",
   "metadata": {},
   "outputs": [],
   "source": [
    "df['taux_achat'] = df['taux_achat'].str.replace(',', '.').astype(float)\n",
    "df['taux_vente'] = df['taux_vente'].str.replace(',', '.').astype(float)"
   ]
  },
  {
   "cell_type": "code",
   "execution_count": null,
   "id": "9720b05a-acfd-4475-b6a8-8d958dfa47b0",
   "metadata": {},
   "outputs": [],
   "source": [
    "# Extraction de la quantité et du nom de devise\n",
    "df[['unite_montant', 'nom_devise']] = df['devise_complete'].str.extract(r'(\\d+)\\s+(.*)')\n",
    "df['unite_montant'] = df['unite_montant'].astype(int)"
   ]
  },
  {
   "cell_type": "code",
   "execution_count": null,
   "id": "bb5fe0bb-368b-43f2-b0fa-cce9b3d68e4a",
   "metadata": {},
   "outputs": [],
   "source": [
    "# Dictionnaire des abréviations ISO ou personnalisées\n",
    "abr_dict = {\n",
    "    \"EURO\": \"EUR\",\n",
    "    \"DOLLAR U.S.A.\": \"USD\",\n",
    "    \"DOLLAR CANADIEN\": \"CAD\",\n",
    "    \"LIVRE STERLING\": \"GBP\",\n",
    "    \"LIVRE GIBRALTAR\": \"GIP\",\n",
    "    \"FRANC SUISSE\": \"CHF\",\n",
    "    \"RIYAL SAOUDIEN\": \"SAR\",\n",
    "    \"DINAR KOWEITIEN\": \"KWD\",\n",
    "    \"DIRHAM E.A.U.\": \"AED\",\n",
    "    \"RIYAL QATARI\": \"QAR\",\n",
    "    \"DINAR BAHREINI\": \"BHD\",\n",
    "    \"YENS JAPONAIS\": \"JPY\",\n",
    "    \"RIYAL OMANI\": \"OMR\"\n",
    "}\n",
    "\n",
    "# Création de la colonne abr_devise\n",
    "df['abr_devise'] = df['nom_devise'].map(abr_dict)"
   ]
  },
  {
   "cell_type": "code",
   "execution_count": null,
   "id": "3d24834c-8b0e-45b6-bfee-a13098d02290",
   "metadata": {},
   "outputs": [],
   "source": [
    "df['taux_achat'] = df['taux_achat']/df['unite_montant']\n",
    "df['taux_vente'] = df['taux_vente']/df['unite_montant']"
   ]
  },
  {
   "cell_type": "code",
   "execution_count": null,
   "id": "b66ca7a2-9b33-46b0-b799-b87b84c5be23",
   "metadata": {},
   "outputs": [],
   "source": [
    "df.drop([\"devise_complete\",\"unite_montant\"], axis=1, inplace=True)"
   ]
  },
  {
   "cell_type": "code",
   "execution_count": null,
   "id": "d97a427f-286f-4816-907b-0c7e13bc46b6",
   "metadata": {},
   "outputs": [],
   "source": [
    "abr_devises = ['AED', 'BHD', 'CAD', 'CHF', 'EUR', 'GBP', 'GIP', 'JPY', 'KWD','OMR', 'QAR', 'SAR', 'USD']"
   ]
  },
  {
   "cell_type": "code",
   "execution_count": null,
   "id": "fb3d7af3-a177-4d18-808e-f4af8e50c80d",
   "metadata": {},
   "outputs": [],
   "source": [
    "df_combined = pd.DataFrame()\n",
    "for abr_devise in abr_devises:\n",
    "    sub_df=df[df[\"abr_devise\"]==abr_devise]\n",
    "    sub_df=sub_df.sort_values(by='date')\n",
    "    sub_df=sub_df.set_index('date')\n",
    "    sub_df=sub_df.interpolate(method='time', limit_direction='both')\n",
    "    df_combined = pd.concat([df_combined, sub_df])"
   ]
  },
  {
   "cell_type": "code",
   "execution_count": null,
   "id": "5bed5727-b227-4b2b-8d03-4c06d8b9834b",
   "metadata": {},
   "outputs": [],
   "source": [
    "df_combined['taux_moyen'] = (df_combined['taux_achat']+df_combined['taux_vente'])/2\n",
    "df_combined['ecart']      = df_combined['taux_vente'] - df_combined['taux_achat']"
   ]
  },
  {
   "cell_type": "code",
   "execution_count": null,
   "id": "db4cc62b-aaa0-436c-8e88-01973c2d63c4",
   "metadata": {},
   "outputs": [],
   "source": [
    "df_combined = df_combined.reset_index()\n",
    "df_combined['id'] = range(1, len(df_combined) + 1)"
   ]
  },
  {
   "cell_type": "code",
   "execution_count": null,
   "id": "5236fbdb-7c6f-476a-853d-e703d6c666aa",
   "metadata": {},
   "outputs": [],
   "source": [
    "df_combined=df_combined[['id', 'date', 'nom_devise', 'abr_devise', 'taux_achat', 'taux_vente','ecart', 'taux_moyen']]"
   ]
  },
  {
   "cell_type": "code",
   "execution_count": null,
   "id": "04647e67-5151-487c-be79-83d5deb76db9",
   "metadata": {},
   "outputs": [],
   "source": [
    "df_combined.to_json(\"../exchange_data/clean_taux_change.json\", orient=\"records\", force_ascii=False, indent=2)"
   ]
  }
 ],
 "metadata": {
  "kernelspec": {
   "display_name": "Python 3 (ipykernel)",
   "language": "python",
   "name": "python3"
  },
  "language_info": {
   "codemirror_mode": {
    "name": "ipython",
    "version": 3
   },
   "file_extension": ".py",
   "mimetype": "text/x-python",
   "name": "python",
   "nbconvert_exporter": "python",
   "pygments_lexer": "ipython3",
   "version": "3.12.4"
  }
 },
 "nbformat": 4,
 "nbformat_minor": 5
}
